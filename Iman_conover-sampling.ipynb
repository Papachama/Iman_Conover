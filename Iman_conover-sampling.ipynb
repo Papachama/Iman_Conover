{
 "cells": [
  {
   "cell_type": "markdown",
   "metadata": {},
   "source": [
    "Iman Conover procedure"
   ]
  },
  {
   "cell_type": "code",
   "execution_count": 430,
   "metadata": {},
   "outputs": [],
   "source": [
    "from pyDOE import *\n",
    "from scipy import stats as sct\n",
    "from scipy import linalg\n",
    "import matplotlib.pyplot as plt\n",
    "import pandas as pd\n"
   ]
  },
  {
   "cell_type": "markdown",
   "metadata": {},
   "source": [
    "n = desired no. samples\n",
    "k = no. parameters\n",
    "dist_in = details of input distributions"
   ]
  },
  {
   "cell_type": "code",
   "execution_count": 439,
   "metadata": {},
   "outputs": [],
   "source": [
    "dist_in =  pd.DataFrame(np.array([['Var01', 'uniform',2, 3, 0], ['Var02', 'normal',2.5, 0.5, 0],['Var03', 'triangular',2, 8, 3],['Var04', 'normal',2, 1, 3],['Var05', 'triangular',2, 5, 3],['Var06', 'uniform',2, 4, 3]]),\n",
    "...                    columns=['Varname', 'dist_type', 'dist_param_1','dist_param_2','dist_param_3'])\n",
    "k = dist_in.shape[0]\n",
    "n = 800\n",
    "\n"
   ]
  },
  {
   "cell_type": "code",
   "execution_count": 440,
   "metadata": {},
   "outputs": [
    {
     "name": "stdout",
     "output_type": "stream",
     "text": [
      "(800, 6)\n"
     ]
    }
   ],
   "source": [
    "design = lhs(k,samples = n)\n",
    "#design = design.transpose()\n",
    "print(design.shape)"
   ]
  },
  {
   "cell_type": "code",
   "execution_count": 441,
   "metadata": {},
   "outputs": [
    {
     "name": "stdout",
     "output_type": "stream",
     "text": [
      "0\n",
      "1\n",
      "2\n",
      "3\n",
      "4\n",
      "5\n"
     ]
    }
   ],
   "source": [
    "for i in iter(range(k)):\n",
    "    print(i)\n",
    "    a= float(dist_in.loc[i,'dist_param_1'])*np.ones((n,), dtype=int)\n",
    "    b= float(dist_in.loc[i,'dist_param_2'])*np.ones((n,), dtype=int)\n",
    "    d= float(dist_in.loc[i,'dist_param_3'])*np.ones((n,), dtype=int)\n",
    "    c = (d/(b-a))\n",
    "\n",
    "  \n",
    "    if dist_in.loc[i,'dist_type']=='normal':\n",
    "        design[:, i] = sct.norm(loc =a, scale=b).ppf(design[:,i])\n",
    "    if dist_in.loc[i,'dist_type']=='uniform':\n",
    "         design[:, i] = sct.uniform(loc =a, scale=(b-a)).ppf(design[:,i])\n",
    "    if dist_in.loc[i,'dist_type']=='triangular':\n",
    "        design[:, i] = sct.triang(loc =a, scale=(b-a), c=c ).ppf(design[:,i])\n",
    "  "
   ]
  },
  {
   "cell_type": "markdown",
   "metadata": {},
   "source": [
    "cor = correlation matrix\n",
    "\n",
    "Calculate correlation matrix T for input data "
   ]
  },
  {
   "cell_type": "code",
   "execution_count": 442,
   "metadata": {},
   "outputs": [
    {
     "name": "stdout",
     "output_type": "stream",
     "text": [
      "[[ 1.    0.    0.    0.    0.    0.  ]\n",
      " [ 0.    1.    0.    0.    0.    0.  ]\n",
      " [ 0.    0.    1.    0.    0.    0.  ]\n",
      " [ 0.    0.    0.    1.    0.75 -0.7 ]\n",
      " [ 0.    0.    0.    0.75  1.   -0.95]\n",
      " [ 0.    0.    0.   -0.7  -0.95  1.  ]]\n"
     ]
    }
   ],
   "source": [
    "cor =np.array([[1,0,0,0,0,0],[0,1,0,0,0,0],[0,0,1,0,0,0],[0,0,0,1,0.75,-0.7],[0,0,0,0.75,1,-0.95],[0,0,0,-.70,-0.95,1]])\n",
    "T = pd.DataFrame(design).corr()\n",
    "print(cor)\n"
   ]
  },
  {
   "cell_type": "markdown",
   "metadata": {},
   "source": [
    "Use cholesky decomposition to select lower triangular matrix where  $LL^{-1} = C $\n",
    "\n",
    "Use cholesky decomposition to select lower triangular matrix where  $QQ^{-1} = T $\n",
    "\n",
    "Calculate S as $L *Q^{-1} $\n",
    "\n",
    "Multiply the samples by L to induce the correlations and by $S\\prime$ to remove the effects of unintended correlations in the input sample."
   ]
  },
  {
   "cell_type": "code",
   "execution_count": 443,
   "metadata": {},
   "outputs": [],
   "source": [
    "L = linalg.cholesky(cor, lower=True)\n",
    "Q = linalg.cholesky(T, lower=True)\n",
    "S = L@np.linalg.inv(Q)\n",
    "ranked = design@S.transpose()\n"
   ]
  },
  {
   "cell_type": "markdown",
   "metadata": {},
   "source": [
    "Rank the columns of the resulting matrix and sort the columns of the original sample matrix to match the rank order"
   ]
  },
  {
   "cell_type": "code",
   "execution_count": 447,
   "metadata": {},
   "outputs": [],
   "source": [
    "rank = np.zeros((design.shape[0], design.shape[1]))\n",
    "\n",
    "for j in range(0, design.shape[1]):\n",
    "    rank[:, j] = sct.rankdata(ranked[:, j], method='ordinal')\n",
    "rank_order = rank.astype(int) - 1\n",
    "\n",
    "ranked_samples = np.zeros((design.shape[0], design.shape[1]))\n",
    "for m in range(0, k):\n",
    "    s = np.sort(design[:, m])\n",
    "    ranked_samples[:, m] = s[rank_order[:,m]]\n",
    "   \n",
    " \n"
   ]
  },
  {
   "cell_type": "code",
   "execution_count": 448,
   "metadata": {},
   "outputs": [],
   "source": [
    "ranked_df=pd.DataFrame(ranked_samples)\n"
   ]
  },
  {
   "cell_type": "markdown",
   "metadata": {},
   "source": [
    "Print the correlation matrix for the ranked sample to compare with the intended correlation matrix, cor."
   ]
  },
  {
   "cell_type": "code",
   "execution_count": 449,
   "metadata": {},
   "outputs": [
    {
     "name": "stdout",
     "output_type": "stream",
     "text": [
      "          0         1         2         3         4         5\n",
      "0  1.000000 -0.013815  0.053646  0.022691  0.019942 -0.009088\n",
      "1 -0.013815  1.000000 -0.008434 -0.022563 -0.024076  0.029576\n",
      "2  0.053646 -0.008434  1.000000  0.009931  0.011388 -0.021738\n",
      "3  0.022691 -0.022563  0.009931  1.000000  0.817778 -0.801303\n",
      "4  0.019942 -0.024076  0.011388  0.817778  1.000000 -0.957678\n",
      "5 -0.009088  0.029576 -0.021738 -0.801303 -0.957678  1.000000\n"
     ]
    }
   ],
   "source": [
    "check_matrix = ranked_df.corr()\n",
    "print(check_matrix)"
   ]
  }
 ],
 "metadata": {
  "kernelspec": {
   "display_name": "Python 3",
   "language": "python",
   "name": "python3"
  },
  "language_info": {
   "codemirror_mode": {
    "name": "ipython",
    "version": 3
   },
   "file_extension": ".py",
   "mimetype": "text/x-python",
   "name": "python",
   "nbconvert_exporter": "python",
   "pygments_lexer": "ipython3",
   "version": "3.6.5"
  }
 },
 "nbformat": 4,
 "nbformat_minor": 2
}

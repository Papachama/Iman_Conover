{
 "cells": [
  {
   "cell_type": "markdown",
   "metadata": {},
   "source": [
    "Computation of extended EE based on Ge and Menendez 2017"
   ]
  },
  {
   "cell_type": "code",
   "execution_count": 3,
   "metadata": {},
   "outputs": [],
   "source": [
    "from pyDOE import *\n",
    "from scipy import stats as sct\n",
    "from scipy import linalg\n",
    "import matplotlib.pyplot as plt\n",
    "import pandas as pd\n"
   ]
  },
  {
   "cell_type": "markdown",
   "metadata": {},
   "source": [
    "Data from from Iman and Conover 1982\n",
    "\n",
    "c = correlation matrix\n",
    "\n",
    "Rmat = input data \n",
    "\n",
    "Calculate correlation matrix T for input data "
   ]
  },
  {
   "cell_type": "code",
   "execution_count": 4,
   "metadata": {},
   "outputs": [],
   "source": [
    "c= np.array([[1,0,0,0,0,0],[0,1,0,0,0,0],[0,0,1,0,0,0],[0,0,0,1,0.75,-0.7],[0,0,0,0.75,1,-0.95],[0,0,0,-.70,-0.95,1]])\n",
    "Rmat = np.array([[1.534,1.534, -1.534,-1.534,0.489,-0.319],[-0.887,-0.489, 0.887,-0.887,-0.157,0.674],[-0.489,0.674,-0.489, 1.150, 1.534,-0.489],[0.887, 0, -0.674,0.319, 0, -1.534],[1.15,-0.319,0.489,0.674, 0.157, 1.15],[0.157,-1.534,-0.887,-0.647,-0.319, 0.157],[-1.150,-0.674, -0.157, 0.157, -1.534, -0.157], [0,-0.887,0.157,-0.319, -0.674, 0.887], [0.319, -0.157, 0.674, 0.887, 0.674, 1.534], [-0.319, 0.157,-0.319, -1.150, 1.150, -0.887],[-1.534,0.887,1.150, 1.534, -0.489, -1.150],[-0.157, -1.150, 1.1534, -0.157, -1.150, -0.674],[0.489,0.489, -1.150, 0.489, -0.887, 0],[0.674,0.319, 0.319, 0, 0.887, 0.319],[-0.674,1.150, 0, -0.489, 0.319,0.489]])\n",
    "T = pd.DataFrame(Rmat).corr()"
   ]
  },
  {
   "cell_type": "markdown",
   "metadata": {},
   "source": [
    "Use cholesky decomposition to select lower triangular matrix where  $LL^{-1} = C $\n",
    "\n",
    "Use cholesky decomposition to select lower triangular matrix where  $QQ^{-1} = T $\n",
    "\n",
    "Calculate S as $L *Q^{-1} $\n",
    "\n",
    "Multiply the samples by L to induce the correlations and by $S\\prime$ to remove the effects of unintended correlations in the input sample."
   ]
  },
  {
   "cell_type": "code",
   "execution_count": 5,
   "metadata": {},
   "outputs": [],
   "source": [
    "L = linalg.cholesky(c, lower=True)\n",
    "Q = linalg.cholesky(T, lower=True)\n",
    "S = L@np.linalg.inv(Q)\n",
    "ranked = Rmat@S.transpose()"
   ]
  },
  {
   "cell_type": "markdown",
   "metadata": {},
   "source": [
    "Rank the columns of the resulting matrix and sort the columns of the original sample matrix to match the rank order"
   ]
  },
  {
   "cell_type": "code",
   "execution_count": 7,
   "metadata": {},
   "outputs": [],
   "source": [
    "ranks = np.zeros((ranked.shape[0], ranked.shape[1]))\n",
    "for j in range(0, ranked.shape[1]):\n",
    "    ranks[:, j] = sct.rankdata(ranked[:, j], method='ordinal')\n",
    "ranks = ranks.astype(int) -1\n",
    "ranked_samples = np.zeros((Rmat.shape[0], Rmat.shape[1]))\n",
    "\n",
    "for j in range(0, Rmat.shape[1]):\n",
    "    s_temp = np.sort(Rmat[:, j])\n",
    "    ranked_samples[:, j] = s_temp[ranks[:,j]]\n",
    "\n"
   ]
  },
  {
   "cell_type": "code",
   "execution_count": 8,
   "metadata": {},
   "outputs": [],
   "source": [
    "ranked_df=pd.DataFrame(ranked_samples)\n",
    "check_matrix = ranked_df.corr()"
   ]
  },
  {
   "cell_type": "markdown",
   "metadata": {},
   "source": [
    "Print the correlation matrix for the ranked sample to compare with the intended correlation matrix, c."
   ]
  },
  {
   "cell_type": "code",
   "execution_count": 9,
   "metadata": {},
   "outputs": [
    {
     "name": "stdout",
     "output_type": "stream",
     "text": [
      "          0         1         2         3         4         5\n",
      "0  1.000000  0.064101  0.093082 -0.040472  0.079471  0.064436\n",
      "1  0.064101  1.000000  0.014130  0.061874 -0.101900  0.062365\n",
      "2  0.093082  0.014130  1.000000 -0.132250  0.018485  0.005865\n",
      "3 -0.040472  0.061874 -0.132250  1.000000  0.739347 -0.746075\n",
      "4  0.079471 -0.101900  0.018485  0.739347  1.000000 -0.878120\n",
      "5  0.064436  0.062365  0.005865 -0.746075 -0.878120  1.000000\n"
     ]
    }
   ],
   "source": [
    "print(check_matrix)"
   ]
  },
  {
   "cell_type": "code",
   "execution_count": null,
   "metadata": {},
   "outputs": [],
   "source": []
  }
 ],
 "metadata": {
  "kernelspec": {
   "display_name": "Python 3",
   "language": "python",
   "name": "python3"
  },
  "language_info": {
   "codemirror_mode": {
    "name": "ipython",
    "version": 3
   },
   "file_extension": ".py",
   "mimetype": "text/x-python",
   "name": "python",
   "nbconvert_exporter": "python",
   "pygments_lexer": "ipython3",
   "version": "3.6.5"
  }
 },
 "nbformat": 4,
 "nbformat_minor": 2
}
